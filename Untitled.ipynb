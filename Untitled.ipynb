{
 "cells": [
  {
   "cell_type": "code",
   "execution_count": 160,
   "metadata": {},
   "outputs": [],
   "source": [
    "import numpy as np\n",
    "from python_speech_features import mfcc\n",
    "#https://python-speech-features.readthedocs.io/en/latest/#python_speech_features.base.mfcc\n",
    "# import scipy.io.wavfile as wav\n",
    "import wave, struct\n",
    "import matplotlib.pyplot as plt\n",
    "import os\n",
    "from tqdm import tqdm_notebook\n",
    "from collections import Counter\n",
    "\n",
    "plt.style.use('grayscale')"
   ]
  },
  {
   "cell_type": "code",
   "execution_count": 161,
   "metadata": {},
   "outputs": [],
   "source": [
    "def read_wav_and_do_mfcc(filename):\n",
    "    with wave.open(filename, 'r') as waveFile:\n",
    "        result = []\n",
    "        for _ in range(waveFile.getnframes()):\n",
    "            waveData = waveFile.readframes(1)\n",
    "            result += [struct.unpack(\"<h\", waveData)]\n",
    "            \n",
    "        frames = waveFile.getnframes()\n",
    "        rate = waveFile.getframerate()\n",
    "        duration = frames / float(rate)\n",
    "        \n",
    "        return mfcc(np.array(result,dtype=np.float32), rate)\n",
    "    \n",
    "def getFeatures(dirname=\"cyfry\"):\n",
    "    cache_file = \"features.npy\"\n",
    "    if os.path.isfile(cache_file):\n",
    "        return np.load(cache_file)\n",
    "    dirname = os.path.join(\".\",dirname)\n",
    "    result = [[] for _ in range(10)]\n",
    "    for fname in os.listdir(dirname):\n",
    "        if fname.endswith('.WAV'):\n",
    "            i = int(fname.split(\"_\")[-2])\n",
    "            fname = os.path.join(dirname, fname)\n",
    "            result[i].append(fname)\n",
    "            \n",
    "    result = np.array(list(map(lambda fnames:[read_wav_and_do_mfcc(fname) for fname in fnames],result)))\n",
    "    np.save(cache_file,result)\n",
    "    return result"
   ]
  },
  {
   "cell_type": "code",
   "execution_count": 162,
   "metadata": {},
   "outputs": [],
   "source": [
    "def L(p):\n",
    "    def fun(X1,X2):\n",
    "        return ((np.abs(X1-X2)**p).sum())**(1/p)\n",
    "    return fun\n",
    "\n",
    "def build_matrix_of_distances(X1,X2,Lp):\n",
    "    result = np.zeros((X1.shape[0],X2.shape[0]))\n",
    "    for i,vx1 in enumerate(X1):\n",
    "        for j,vx2 in enumerate(X2):\n",
    "            result[i,j]=Lp(vx1,vx2)\n",
    "    return result\n",
    "\n",
    "def build_matrix_of_cumulated_distances(matrix_of_distances):\n",
    "    result = np.zeros(matrix_of_distances.shape)\n",
    "    for i,row in enumerate(matrix_of_distances):\n",
    "        for j,cell in enumerate(row):\n",
    "            result[i,j] += matrix_of_distances[i,j]\n",
    "            if i==0 and j==0:\n",
    "                continue\n",
    "            elif j==0:\n",
    "                result[i,j] += result[i-1,j]\n",
    "            elif i==0:\n",
    "                result[i,j] += result[i,j-1]\n",
    "            else:\n",
    "                result[i,j] += np.min([result[i-1,j],result[i,j-1],result[i-1,j-1]])\n",
    "    return result\n",
    "\n",
    "def build_shortest_path(matrix_of_cumulated_distances):\n",
    "    a,b = matrix_of_cumulated_distances.shape\n",
    "    \n",
    "    a,b = a-1,b-1\n",
    "    result = [[a,b]]\n",
    "    while(a!=0 or b!=0):\n",
    "        if a==0:\n",
    "            b -= 1\n",
    "        elif b==0:\n",
    "            a -= 1\n",
    "        else:\n",
    "            if matrix_of_cumulated_distances[a-1,b-1]<=matrix_of_cumulated_distances[a-1,b] and matrix_of_cumulated_distances[a-1,b-1]<=matrix_of_cumulated_distances[a,b-1]:\n",
    "                a-=1\n",
    "                b-=1\n",
    "            elif matrix_of_cumulated_distances[a-1,b]<=matrix_of_cumulated_distances[a-1,b-1] and matrix_of_cumulated_distances[a-1,b]<=matrix_of_cumulated_distances[a,b-1]:\n",
    "                a-=1\n",
    "            elif matrix_of_cumulated_distances[a,b-1]<=matrix_of_cumulated_distances[a-1,b-1] and matrix_of_cumulated_distances[a,b-1]<=matrix_of_cumulated_distances[a-1,b]:\n",
    "                b-=1\n",
    "        result += [[a,b]]\n",
    "    return np.array(result).reshape((len(result),2))\n",
    "\n",
    "def rank_path(path,shape):\n",
    "    A,B = shape\n",
    "    result = 0\n",
    "    for x in path:\n",
    "        result += abs(A*x[1]-B*x[0])\n",
    "#     return result/(A**2+B**2)**0.5\n",
    "    return 2*result/(A*(B**2 + (A-2)*B + 2 - 2*A))#? normalizacja od 0 do 1 (chyba)\n",
    "\n",
    "def subdtw(A,B,verbose=False):\n",
    "    mod = build_matrix_of_distances(A,B,L(1))\n",
    "    mocd = build_matrix_of_cumulated_distances(mod)\n",
    "    path = build_shortest_path(mocd)\n",
    "    rank = rank_path(path,mocd.shape)\n",
    "    \n",
    "    if verbose:\n",
    "        fig, ax = plt.subplots(figsize=(1*len(B),1*len(A)))\n",
    "        im = ax.imshow(mocd)\n",
    "\n",
    "\n",
    "        ax.set_xticks(np.arange(len(B)))\n",
    "        ax.set_yticks(np.arange(len(A)))\n",
    "        ax.set_xticklabels(B)\n",
    "        ax.set_yticklabels(A)\n",
    "        for i,row in enumerate(mocd):\n",
    "            for j,cell in enumerate(row):\n",
    "                ax.text(j, i, \"{}({})\".format(cell,mod[i,j]), ha=\"center\", va=\"center\", color=\"y\")\n",
    "    #             ax.text(j, i, cell, ha=\"center\", va=\"center\", color=\"w\")\n",
    "        epsilon = 0.1\n",
    "        ax.plot(path[:,1]+epsilon,path[:,0],'r',label='Rzeczywiste dopasowanie')\n",
    "        ax.plot([0,len(B)-1],[0,len(A)-1],'g',label='Idealne dopasowanie')\n",
    "        bbox = fig.get_window_extent().transformed(fig.dpi_scale_trans.inverted())\n",
    "        ax.legend( bbox_to_anchor=(1.4,1))\n",
    "        plt.show()\n",
    "    return rank\n",
    "\n",
    "def dtw(A,B,verbose=False):\n",
    "    if len(A) <= len(B):\n",
    "        return subdtw(A,B,verbose)\n",
    "    return subdtw(B,A,verbose)"
   ]
  },
  {
   "cell_type": "code",
   "execution_count": 169,
   "metadata": {},
   "outputs": [],
   "source": [
    "def get_aggregator(agg):\n",
    "    def aggregator(data):\n",
    "        return np.argmin(agg(data,axis=1))\n",
    "    return aggregator\n",
    "\n",
    "def get_kNN_aggregator(k):\n",
    "    def kNN_aggregator(data):\n",
    "        return Counter(np.unravel_index(np.argsort(data, axis=None), data.shape)[0][:k]).most_common(1)[0][0]\n",
    "    return kNN_aggregator\n",
    "\n",
    "def classify(v,agg=get_aggregator(np.min)):\n",
    "    return agg(np.array(list(map(lambda row:list(map(lambda cell:dtw(v,cell),row)),features))))\n",
    "\n",
    "def draw_heatmap(data):\n",
    "    plt.subplots(figsize=data.shape)\n",
    "    plt.imshow(data)\n",
    "#     plt.set_xticks(np.arange(data.shape[0]))\n",
    "#     plt.set_yticks(np.arange(data.shape[0]))\n",
    "    plt.colorbar()\n",
    "    plt.show()\n"
   ]
  },
  {
   "cell_type": "code",
   "execution_count": null,
   "metadata": {},
   "outputs": [
    {
     "data": {
      "application/vnd.jupyter.widget-view+json": {
       "model_id": "d83960a0dd1243b39933b75904fd7f81",
       "version_major": 2,
       "version_minor": 0
      },
      "text/html": [
       "<p>Failed to display Jupyter Widget of type <code>HBox</code>.</p>\n",
       "<p>\n",
       "  If you're reading this message in Jupyter Notebook or JupyterLab, it may mean\n",
       "  that the widgets JavaScript is still loading. If this message persists, it\n",
       "  likely means that the widgets JavaScript library is either not installed or\n",
       "  not enabled. See the <a href=\"https://ipywidgets.readthedocs.io/en/stable/user_install.html\">Jupyter\n",
       "  Widgets Documentation</a> for setup instructions.\n",
       "</p>\n",
       "<p>\n",
       "  If you're reading this message in another notebook frontend (for example, a static\n",
       "  rendering on GitHub or <a href=\"https://nbviewer.jupyter.org/\">NBViewer</a>),\n",
       "  it may mean that your frontend doesn't currently support widgets.\n",
       "</p>\n"
      ],
      "text/plain": [
       "HBox(children=(IntProgress(value=0, max=60), HTML(value='')))"
      ]
     },
     "metadata": {},
     "output_type": "display_data"
    },
    {
     "name": "stdout",
     "output_type": "stream",
     "text": [
      "\n"
     ]
    },
    {
     "data": {
      "image/png": "[encoded data removed]",
      "text/plain": [
       "<matplotlib.figure.Figure at 0x23a0db93160>"
      ]
     },
     "metadata": {},
     "output_type": "display_data"
    },
    {
     "data": {
      "application/vnd.jupyter.widget-view+json": {
       "model_id": "e2b031e8c8764e45914b267eb70ddf34",
       "version_major": 2,
       "version_minor": 0
      },
      "text/html": [
       "<p>Failed to display Jupyter Widget of type <code>HBox</code>.</p>\n",
       "<p>\n",
       "  If you're reading this message in Jupyter Notebook or JupyterLab, it may mean\n",
       "  that the widgets JavaScript is still loading. If this message persists, it\n",
       "  likely means that the widgets JavaScript library is either not installed or\n",
       "  not enabled. See the <a href=\"https://ipywidgets.readthedocs.io/en/stable/user_install.html\">Jupyter\n",
       "  Widgets Documentation</a> for setup instructions.\n",
       "</p>\n",
       "<p>\n",
       "  If you're reading this message in another notebook frontend (for example, a static\n",
       "  rendering on GitHub or <a href=\"https://nbviewer.jupyter.org/\">NBViewer</a>),\n",
       "  it may mean that your frontend doesn't currently support widgets.\n",
       "</p>\n"
      ],
      "text/plain": [
       "HBox(children=(IntProgress(value=0, max=60), HTML(value='')))"
      ]
     },
     "metadata": {},
     "output_type": "display_data"
    }
   ],
   "source": [
    "dirname = \"cyfry\"\n",
    "features = getFeatures(dirname)\n",
    "dirname = os.path.join(\".\",dirname)\n",
    "filenames= os.listdir(dirname)\n",
    "aggregators = [get_kNN_aggregator(1),get_kNN_aggregator(3),get_kNN_aggregator(5),get_aggregator(np.min),get_aggregator(np.mean)]\n",
    "for a in aggregators:\n",
    "    results = np.zeros((10,10))\n",
    "    for fname in tqdm_notebook(filenames):\n",
    "        if fname.endswith('.WAV'):\n",
    "            i = int(fname.split(\"_\")[-2])\n",
    "            fname = os.path.join(dirname, fname) \n",
    "            fv = read_wav_and_do_mfcc(fname)\n",
    "            dec= classify(fv,a)\n",
    "            results[i,dec]+=1\n",
    "    \n",
    "    draw_heatmap(results)"
   ]
  }
 ],
 "metadata": {
  "kernelspec": {
   "display_name": "Python 3",
   "language": "python",
   "name": "python3"
  },
  "language_info": {
   "codemirror_mode": {
    "name": "ipython",
    "version": 3
   },
   "file_extension": ".py",
   "mimetype": "text/x-python",
   "name": "python",
   "nbconvert_exporter": "python",
   "pygments_lexer": "ipython3",
   "version": "3.6.3"
  }
 },
 "nbformat": 4,
 "nbformat_minor": 2
}
