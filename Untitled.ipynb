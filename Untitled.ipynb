{
 "cells": [
  {
   "cell_type": "code",
   "execution_count": 5,
   "metadata": {
    "collapsed": true
   },
   "outputs": [],
   "source": [
    "import numpy as np"
   ]
  },
  {
   "cell_type": "code",
   "execution_count": 72,
   "metadata": {
    "collapsed": false
   },
   "outputs": [],
   "source": [
    "def L(p):\n",
    "    def fun(X1,X2):\n",
    "        return ((np.abs(X1-X2)**p).sum())**(1/p)\n",
    "    return fun\n",
    "\n",
    "def build_matrix_of_distances(X1,X2,Lp):\n",
    "    result = np.zeros((X1.shape[0],X2.shape[0]))\n",
    "    for i,vx1 in enumerate(X1):\n",
    "        for j,vx2 in enumerate(X2):\n",
    "            result[i,j]=Lp(vx1,vx2)\n",
    "    return result\n",
    "\n",
    "def build_matrix_of_cumulated_distances(matrix_of_distances):\n",
    "    result = np.zeros(matrix_of_distances.shape)\n",
    "    for i,row in enumerate(matrix_of_distances):\n",
    "        for j,cell in enumerate(row):\n",
    "            result[i,j] = matrix_of_distances[i,j]\n",
    "            if i==j==0:\n",
    "                continue\n",
    "            elif j==0:\n",
    "                result[i,j] += result[i-1,j]\n",
    "            elif i==0:\n",
    "                result[i,j] += row[j-1]\n",
    "            else:\n",
    "                result[i,j] += np.min([result[i-1,j],row[j-1],result[i-1,j-1]])\n",
    "    return result\n",
    "\n",
    "def build_shortest_path(matrix_of_cumulated_distances):\n",
    "    a,b = matrix_of_cumulated_distances.shape\n",
    "    \n",
    "    a,b = a-1,b-1\n",
    "    result = [[a,b]]\n",
    "    while(a!=0 and b!=0):\n",
    "        if a==0:\n",
    "            b -= 1\n",
    "        elif b==0:\n",
    "            a -= 1\n",
    "        else:\n",
    "            if matrix_of_cumulated_distances[a-1,b-1]<=matrix_of_cumulated_distances[a-1,b] and matrix_of_cumulated_distances[a-1,b-1]<=matrix_of_cumulated_distances[a,b-1]:\n",
    "                a-=1\n",
    "                b-=1\n",
    "            elif matrix_of_cumulated_distances[a-1,b]<=matrix_of_cumulated_distances[a-1,b-1] and matrix_of_cumulated_distances[a-1,b]<=matrix_of_cumulated_distances[a,b-1]:\n",
    "                a-=1\n",
    "            elif matrix_of_cumulated_distances[a,b-1]<=matrix_of_cumulated_distances[a-1,b-1] and matrix_of_cumulated_distances[a,b-1]<=matrix_of_cumulated_distances[a-1,b]:\n",
    "                b-=1\n",
    "        result += [[a,b]]\n",
    "    return np.array(result).reshape((len(result),2))\n",
    "\n",
    "def rank_path(path,shape):\n",
    "    A,B = shape\n",
    "    result = 0\n",
    "    for x in path:\n",
    "        result += abs(A*x[1]-B*x[0])\n",
    "    return result/(A**2+B**2)**0.5\n",
    "\n",
    "def dtw(A,B):\n",
    "    mod = build_matrix_of_distances(A,B,L(1))\n",
    "    mocd = build_matrix_of_cumulated_distances(mod)\n",
    "    path = build_shortest_path(mocd)\n",
    "    rank = rank_path(path,mocd.shape)\n",
    "    return rank"
   ]
  },
  {
   "cell_type": "code",
   "execution_count": 73,
   "metadata": {
    "collapsed": false
   },
   "outputs": [
    {
     "name": "stdout",
     "output_type": "stream",
     "text": [
      "5 7\n",
      "1.6\n"
     ]
    }
   ],
   "source": [
    "A=np.array([0,2,3,4,5,6]).reshape((6,1))\n",
    "B=np.array([1,2,3,4,5,6,7,8]).reshape((8,1))\n",
    "rank = dtw(A,B)\n",
    "print(rank)"
   ]
  },
  {
   "cell_type": "code",
   "execution_count": null,
   "metadata": {
    "collapsed": true
   },
   "outputs": [],
   "source": []
  }
 ],
 "metadata": {
  "kernelspec": {
   "display_name": "Python 3",
   "language": "python",
   "name": "python3"
  }
 },
 "nbformat": 4,
 "nbformat_minor": 2
}
